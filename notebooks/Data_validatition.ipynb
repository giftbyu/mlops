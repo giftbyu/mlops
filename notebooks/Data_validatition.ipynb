{
 "cells": [
  {
   "cell_type": "code",
   "execution_count": 1,
   "id": "7353744b",
   "metadata": {},
   "outputs": [],
   "source": [
    "import pandas as pd\n",
    "import numpy as np\n",
    "\n",
    "# --- 1. Tentukan Lokasi File ---\n",
    "# Sesuaikan path ini jika Anda menggunakan nama file yang berbeda\n",
    "path_notebook_output = '../data_processed/Preproces_Waterquality.csv' # Ganti jika nama file berbeda\n",
    "path_script_output = '../data_processed/processed_data.csv'"
   ]
  },
  {
   "cell_type": "code",
   "execution_count": 2,
   "id": "a203f1cd",
   "metadata": {},
   "outputs": [
    {
     "name": "stdout",
     "output_type": "stream",
     "text": [
      "✅ Kedua file berhasil dimuat.\n"
     ]
    }
   ],
   "source": [
    "# --- 2. Muat Kedua Dataset ---\n",
    "try:\n",
    "    df_notebook = pd.read_csv(path_notebook_output)\n",
    "    df_script = pd.read_csv(path_script_output)\n",
    "    print(\"✅ Kedua file berhasil dimuat.\")\n",
    "except FileNotFoundError as e:\n",
    "    print(f\"❌ Error: File tidak ditemukan. {e}\")\n",
    "    print(\"Pastikan Anda sudah menjalankan notebook asli dan skrip preprocess.py terlebih dahulu.\")\n"
   ]
  },
  {
   "cell_type": "code",
   "execution_count": 3,
   "id": "d4a83e8c",
   "metadata": {},
   "outputs": [
    {
     "name": "stdout",
     "output_type": "stream",
     "text": [
      "\n",
      "Memulai perbandingan DataFrame...\n",
      "✅ Bentuk DataFrame identik: (3276, 17)\n",
      "✅ Nama kolom identik.\n",
      "✅ Tipe data identik.\n",
      "\n",
      "[HASIL AKHIR] ❌ GAGAL! Ada perbedaan konten antara kedua DataFrame.\n",
      "   - Info: Perbedaan numerik sangat kecil (toleransi 1e-5), kemungkinan karena floating point. Bisa dianggap identik.\n"
     ]
    }
   ],
   "source": [
    "# --- 3. Lakukan Perbandingan ---\n",
    "\n",
    "print(\"\\nMemulai perbandingan DataFrame...\")\n",
    "\n",
    "# a. Bandingkan Bentuk (Jumlah Baris dan Kolom)\n",
    "if df_notebook.shape == df_script.shape:\n",
    "    print(f\"✅ Bentuk DataFrame identik: {df_notebook.shape}\")\n",
    "else:\n",
    "    print(f\"❌ PERINGATAN: Bentuk DataFrame berbeda!\")\n",
    "    print(f\"   - Notebook: {df_notebook.shape}\")\n",
    "    print(f\"   - Script: {df_script.shape}\")\n",
    "\n",
    "# b. Bandingkan Nama Kolom\n",
    "if df_notebook.columns.equals(df_script.columns):\n",
    "    print(\"✅ Nama kolom identik.\")\n",
    "else:\n",
    "    print(\"❌ PERINGATAN: Nama kolom berbeda.\")\n",
    "\n",
    "# c. Bandingkan Tipe Data Kolom\n",
    "if df_notebook.dtypes.equals(df_script.dtypes):\n",
    "    print(\"✅ Tipe data identik.\")\n",
    "else:\n",
    "    print(\"❌ PERINGATAN: Tipe data berbeda.\")\n",
    "\n",
    "# d. Bandingkan Isi (Nilai) Secara Keseluruhan\n",
    "# df.equals() adalah cara paling akurat untuk membandingkan kesamaan 100%\n",
    "if df_notebook.equals(df_script):\n",
    "    print(\"\\n[HASIL AKHIR] ✔️ SUKSES! Isi kedua DataFrame 100% identik.\")\n",
    "    print(\"Skrip otomatisasi Anda bekerja dengan benar sesuai notebook.\")\n",
    "else:\n",
    "    print(\"\\n[HASIL AKHIR] ❌ GAGAL! Ada perbedaan konten antara kedua DataFrame.\")\n",
    "    # Gunakan np.allclose untuk menangani kemungkinan perbedaan numerik yang sangat kecil\n",
    "    try:\n",
    "        if np.allclose(df_notebook.select_dtypes(include=np.number), df_script.select_dtypes(include=np.number), rtol=1e-5, atol=1e-8):\n",
    "            print(\"   - Info: Perbedaan numerik sangat kecil (toleransi 1e-5), kemungkinan karena floating point. Bisa dianggap identik.\")\n",
    "        else:\n",
    "            print(\"   - Info: Terdapat perbedaan signifikan pada nilai-nilai di dalam DataFrame.\")\n",
    "            # Menemukan lokasi perbedaan (jika ada, untuk debugging)\n",
    "            diff = df_notebook.compare(df_script, align_axis=1)\n",
    "            print(\"\\nContoh perbedaan pertama yang ditemukan:\")\n",
    "            print(diff.head())\n",
    "    except Exception as e:\n",
    "        print(f\"   - Tidak dapat melakukan perbandingan numerik: {e}\")"
   ]
  }
 ],
 "metadata": {
  "kernelspec": {
   "display_name": "MSML",
   "language": "python",
   "name": "python3"
  },
  "language_info": {
   "codemirror_mode": {
    "name": "ipython",
    "version": 3
   },
   "file_extension": ".py",
   "mimetype": "text/x-python",
   "name": "python",
   "nbconvert_exporter": "python",
   "pygments_lexer": "ipython3",
   "version": "3.12.7"
  }
 },
 "nbformat": 4,
 "nbformat_minor": 5
}
